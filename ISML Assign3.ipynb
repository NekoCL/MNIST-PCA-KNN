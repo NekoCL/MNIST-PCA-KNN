{
 "cells": [
  {
   "cell_type": "code",
   "execution_count": 1,
   "metadata": {},
   "outputs": [],
   "source": [
    "#Import libraries\n",
    "import pandas as pd\n",
    "import numpy as np\n",
    "import matplotlib.pyplot as plt\n",
    "from sklearn.neighbors import KNeighborsClassifier\n",
    "from sklearn.metrics import accuracy_score"
   ]
  },
  {
   "cell_type": "code",
   "execution_count": 2,
   "metadata": {},
   "outputs": [],
   "source": [
    "#Read csv\n",
    "train = pd.read_csv(\"mnist_train.csv\")\n",
    "test = pd.read_csv(\"mnist_test.csv\")"
   ]
  },
  {
   "cell_type": "code",
   "execution_count": 3,
   "metadata": {},
   "outputs": [
    {
     "data": {
      "text/html": [
       "<div>\n",
       "<style scoped>\n",
       "    .dataframe tbody tr th:only-of-type {\n",
       "        vertical-align: middle;\n",
       "    }\n",
       "\n",
       "    .dataframe tbody tr th {\n",
       "        vertical-align: top;\n",
       "    }\n",
       "\n",
       "    .dataframe thead th {\n",
       "        text-align: right;\n",
       "    }\n",
       "</style>\n",
       "<table border=\"1\" class=\"dataframe\">\n",
       "  <thead>\n",
       "    <tr style=\"text-align: right;\">\n",
       "      <th></th>\n",
       "      <th>5.000000000000000000e+00</th>\n",
       "      <th>0.000000000000000000e+00</th>\n",
       "      <th>0.000000000000000000e+00.1</th>\n",
       "      <th>0.000000000000000000e+00.2</th>\n",
       "      <th>0.000000000000000000e+00.3</th>\n",
       "      <th>0.000000000000000000e+00.4</th>\n",
       "      <th>0.000000000000000000e+00.5</th>\n",
       "      <th>0.000000000000000000e+00.6</th>\n",
       "      <th>0.000000000000000000e+00.7</th>\n",
       "      <th>0.000000000000000000e+00.8</th>\n",
       "      <th>...</th>\n",
       "      <th>0.000000000000000000e+00.608</th>\n",
       "      <th>0.000000000000000000e+00.609</th>\n",
       "      <th>0.000000000000000000e+00.610</th>\n",
       "      <th>0.000000000000000000e+00.611</th>\n",
       "      <th>0.000000000000000000e+00.612</th>\n",
       "      <th>0.000000000000000000e+00.613</th>\n",
       "      <th>0.000000000000000000e+00.614</th>\n",
       "      <th>0.000000000000000000e+00.615</th>\n",
       "      <th>0.000000000000000000e+00.616</th>\n",
       "      <th>0.000000000000000000e+00.617</th>\n",
       "    </tr>\n",
       "  </thead>\n",
       "  <tbody>\n",
       "    <tr>\n",
       "      <td>0</td>\n",
       "      <td>0.0</td>\n",
       "      <td>0.0</td>\n",
       "      <td>0.0</td>\n",
       "      <td>0.0</td>\n",
       "      <td>0.0</td>\n",
       "      <td>0.0</td>\n",
       "      <td>0.0</td>\n",
       "      <td>0.0</td>\n",
       "      <td>0.0</td>\n",
       "      <td>0.0</td>\n",
       "      <td>...</td>\n",
       "      <td>0.0</td>\n",
       "      <td>0.0</td>\n",
       "      <td>0.0</td>\n",
       "      <td>0.0</td>\n",
       "      <td>0.0</td>\n",
       "      <td>0.0</td>\n",
       "      <td>0.0</td>\n",
       "      <td>0.0</td>\n",
       "      <td>0.0</td>\n",
       "      <td>0.0</td>\n",
       "    </tr>\n",
       "    <tr>\n",
       "      <td>1</td>\n",
       "      <td>4.0</td>\n",
       "      <td>0.0</td>\n",
       "      <td>0.0</td>\n",
       "      <td>0.0</td>\n",
       "      <td>0.0</td>\n",
       "      <td>0.0</td>\n",
       "      <td>0.0</td>\n",
       "      <td>0.0</td>\n",
       "      <td>0.0</td>\n",
       "      <td>0.0</td>\n",
       "      <td>...</td>\n",
       "      <td>0.0</td>\n",
       "      <td>0.0</td>\n",
       "      <td>0.0</td>\n",
       "      <td>0.0</td>\n",
       "      <td>0.0</td>\n",
       "      <td>0.0</td>\n",
       "      <td>0.0</td>\n",
       "      <td>0.0</td>\n",
       "      <td>0.0</td>\n",
       "      <td>0.0</td>\n",
       "    </tr>\n",
       "    <tr>\n",
       "      <td>2</td>\n",
       "      <td>1.0</td>\n",
       "      <td>0.0</td>\n",
       "      <td>0.0</td>\n",
       "      <td>0.0</td>\n",
       "      <td>0.0</td>\n",
       "      <td>0.0</td>\n",
       "      <td>0.0</td>\n",
       "      <td>0.0</td>\n",
       "      <td>0.0</td>\n",
       "      <td>0.0</td>\n",
       "      <td>...</td>\n",
       "      <td>0.0</td>\n",
       "      <td>0.0</td>\n",
       "      <td>0.0</td>\n",
       "      <td>0.0</td>\n",
       "      <td>0.0</td>\n",
       "      <td>0.0</td>\n",
       "      <td>0.0</td>\n",
       "      <td>0.0</td>\n",
       "      <td>0.0</td>\n",
       "      <td>0.0</td>\n",
       "    </tr>\n",
       "    <tr>\n",
       "      <td>3</td>\n",
       "      <td>9.0</td>\n",
       "      <td>0.0</td>\n",
       "      <td>0.0</td>\n",
       "      <td>0.0</td>\n",
       "      <td>0.0</td>\n",
       "      <td>0.0</td>\n",
       "      <td>0.0</td>\n",
       "      <td>0.0</td>\n",
       "      <td>0.0</td>\n",
       "      <td>0.0</td>\n",
       "      <td>...</td>\n",
       "      <td>0.0</td>\n",
       "      <td>0.0</td>\n",
       "      <td>0.0</td>\n",
       "      <td>0.0</td>\n",
       "      <td>0.0</td>\n",
       "      <td>0.0</td>\n",
       "      <td>0.0</td>\n",
       "      <td>0.0</td>\n",
       "      <td>0.0</td>\n",
       "      <td>0.0</td>\n",
       "    </tr>\n",
       "    <tr>\n",
       "      <td>4</td>\n",
       "      <td>2.0</td>\n",
       "      <td>0.0</td>\n",
       "      <td>0.0</td>\n",
       "      <td>0.0</td>\n",
       "      <td>0.0</td>\n",
       "      <td>0.0</td>\n",
       "      <td>0.0</td>\n",
       "      <td>0.0</td>\n",
       "      <td>0.0</td>\n",
       "      <td>0.0</td>\n",
       "      <td>...</td>\n",
       "      <td>0.0</td>\n",
       "      <td>0.0</td>\n",
       "      <td>0.0</td>\n",
       "      <td>0.0</td>\n",
       "      <td>0.0</td>\n",
       "      <td>0.0</td>\n",
       "      <td>0.0</td>\n",
       "      <td>0.0</td>\n",
       "      <td>0.0</td>\n",
       "      <td>0.0</td>\n",
       "    </tr>\n",
       "  </tbody>\n",
       "</table>\n",
       "<p>5 rows × 785 columns</p>\n",
       "</div>"
      ],
      "text/plain": [
       "   5.000000000000000000e+00  0.000000000000000000e+00  \\\n",
       "0                       0.0                       0.0   \n",
       "1                       4.0                       0.0   \n",
       "2                       1.0                       0.0   \n",
       "3                       9.0                       0.0   \n",
       "4                       2.0                       0.0   \n",
       "\n",
       "   0.000000000000000000e+00.1  0.000000000000000000e+00.2  \\\n",
       "0                         0.0                         0.0   \n",
       "1                         0.0                         0.0   \n",
       "2                         0.0                         0.0   \n",
       "3                         0.0                         0.0   \n",
       "4                         0.0                         0.0   \n",
       "\n",
       "   0.000000000000000000e+00.3  0.000000000000000000e+00.4  \\\n",
       "0                         0.0                         0.0   \n",
       "1                         0.0                         0.0   \n",
       "2                         0.0                         0.0   \n",
       "3                         0.0                         0.0   \n",
       "4                         0.0                         0.0   \n",
       "\n",
       "   0.000000000000000000e+00.5  0.000000000000000000e+00.6  \\\n",
       "0                         0.0                         0.0   \n",
       "1                         0.0                         0.0   \n",
       "2                         0.0                         0.0   \n",
       "3                         0.0                         0.0   \n",
       "4                         0.0                         0.0   \n",
       "\n",
       "   0.000000000000000000e+00.7  0.000000000000000000e+00.8  ...  \\\n",
       "0                         0.0                         0.0  ...   \n",
       "1                         0.0                         0.0  ...   \n",
       "2                         0.0                         0.0  ...   \n",
       "3                         0.0                         0.0  ...   \n",
       "4                         0.0                         0.0  ...   \n",
       "\n",
       "   0.000000000000000000e+00.608  0.000000000000000000e+00.609  \\\n",
       "0                           0.0                           0.0   \n",
       "1                           0.0                           0.0   \n",
       "2                           0.0                           0.0   \n",
       "3                           0.0                           0.0   \n",
       "4                           0.0                           0.0   \n",
       "\n",
       "   0.000000000000000000e+00.610  0.000000000000000000e+00.611  \\\n",
       "0                           0.0                           0.0   \n",
       "1                           0.0                           0.0   \n",
       "2                           0.0                           0.0   \n",
       "3                           0.0                           0.0   \n",
       "4                           0.0                           0.0   \n",
       "\n",
       "   0.000000000000000000e+00.612  0.000000000000000000e+00.613  \\\n",
       "0                           0.0                           0.0   \n",
       "1                           0.0                           0.0   \n",
       "2                           0.0                           0.0   \n",
       "3                           0.0                           0.0   \n",
       "4                           0.0                           0.0   \n",
       "\n",
       "   0.000000000000000000e+00.614  0.000000000000000000e+00.615  \\\n",
       "0                           0.0                           0.0   \n",
       "1                           0.0                           0.0   \n",
       "2                           0.0                           0.0   \n",
       "3                           0.0                           0.0   \n",
       "4                           0.0                           0.0   \n",
       "\n",
       "   0.000000000000000000e+00.616  0.000000000000000000e+00.617  \n",
       "0                           0.0                           0.0  \n",
       "1                           0.0                           0.0  \n",
       "2                           0.0                           0.0  \n",
       "3                           0.0                           0.0  \n",
       "4                           0.0                           0.0  \n",
       "\n",
       "[5 rows x 785 columns]"
      ]
     },
     "execution_count": 3,
     "metadata": {},
     "output_type": "execute_result"
    }
   ],
   "source": [
    "train.head()"
   ]
  },
  {
   "cell_type": "code",
   "execution_count": 4,
   "metadata": {},
   "outputs": [
    {
     "data": {
      "text/html": [
       "<div>\n",
       "<style scoped>\n",
       "    .dataframe tbody tr th:only-of-type {\n",
       "        vertical-align: middle;\n",
       "    }\n",
       "\n",
       "    .dataframe tbody tr th {\n",
       "        vertical-align: top;\n",
       "    }\n",
       "\n",
       "    .dataframe thead th {\n",
       "        text-align: right;\n",
       "    }\n",
       "</style>\n",
       "<table border=\"1\" class=\"dataframe\">\n",
       "  <thead>\n",
       "    <tr style=\"text-align: right;\">\n",
       "      <th></th>\n",
       "      <th>6.000000000000000000e+00</th>\n",
       "      <th>0.000000000000000000e+00</th>\n",
       "      <th>0.000000000000000000e+00.1</th>\n",
       "      <th>0.000000000000000000e+00.2</th>\n",
       "      <th>0.000000000000000000e+00.3</th>\n",
       "      <th>0.000000000000000000e+00.4</th>\n",
       "      <th>0.000000000000000000e+00.5</th>\n",
       "      <th>0.000000000000000000e+00.6</th>\n",
       "      <th>0.000000000000000000e+00.7</th>\n",
       "      <th>0.000000000000000000e+00.8</th>\n",
       "      <th>...</th>\n",
       "      <th>0.000000000000000000e+00.615</th>\n",
       "      <th>0.000000000000000000e+00.616</th>\n",
       "      <th>0.000000000000000000e+00.617</th>\n",
       "      <th>0.000000000000000000e+00.618</th>\n",
       "      <th>0.000000000000000000e+00.619</th>\n",
       "      <th>0.000000000000000000e+00.620</th>\n",
       "      <th>0.000000000000000000e+00.621</th>\n",
       "      <th>0.000000000000000000e+00.622</th>\n",
       "      <th>0.000000000000000000e+00.623</th>\n",
       "      <th>0.000000000000000000e+00.624</th>\n",
       "    </tr>\n",
       "  </thead>\n",
       "  <tbody>\n",
       "    <tr>\n",
       "      <td>0</td>\n",
       "      <td>0.0</td>\n",
       "      <td>0.0</td>\n",
       "      <td>0.0</td>\n",
       "      <td>0.0</td>\n",
       "      <td>0.0</td>\n",
       "      <td>0.0</td>\n",
       "      <td>0.0</td>\n",
       "      <td>0.0</td>\n",
       "      <td>0.0</td>\n",
       "      <td>0.0</td>\n",
       "      <td>...</td>\n",
       "      <td>0.0</td>\n",
       "      <td>0.0</td>\n",
       "      <td>0.0</td>\n",
       "      <td>0.0</td>\n",
       "      <td>0.0</td>\n",
       "      <td>0.0</td>\n",
       "      <td>0.0</td>\n",
       "      <td>0.0</td>\n",
       "      <td>0.0</td>\n",
       "      <td>0.0</td>\n",
       "    </tr>\n",
       "    <tr>\n",
       "      <td>1</td>\n",
       "      <td>1.0</td>\n",
       "      <td>0.0</td>\n",
       "      <td>0.0</td>\n",
       "      <td>0.0</td>\n",
       "      <td>0.0</td>\n",
       "      <td>0.0</td>\n",
       "      <td>0.0</td>\n",
       "      <td>0.0</td>\n",
       "      <td>0.0</td>\n",
       "      <td>0.0</td>\n",
       "      <td>...</td>\n",
       "      <td>0.0</td>\n",
       "      <td>0.0</td>\n",
       "      <td>0.0</td>\n",
       "      <td>0.0</td>\n",
       "      <td>0.0</td>\n",
       "      <td>0.0</td>\n",
       "      <td>0.0</td>\n",
       "      <td>0.0</td>\n",
       "      <td>0.0</td>\n",
       "      <td>0.0</td>\n",
       "    </tr>\n",
       "    <tr>\n",
       "      <td>2</td>\n",
       "      <td>1.0</td>\n",
       "      <td>0.0</td>\n",
       "      <td>0.0</td>\n",
       "      <td>0.0</td>\n",
       "      <td>0.0</td>\n",
       "      <td>0.0</td>\n",
       "      <td>0.0</td>\n",
       "      <td>0.0</td>\n",
       "      <td>0.0</td>\n",
       "      <td>0.0</td>\n",
       "      <td>...</td>\n",
       "      <td>0.0</td>\n",
       "      <td>0.0</td>\n",
       "      <td>0.0</td>\n",
       "      <td>0.0</td>\n",
       "      <td>0.0</td>\n",
       "      <td>0.0</td>\n",
       "      <td>0.0</td>\n",
       "      <td>0.0</td>\n",
       "      <td>0.0</td>\n",
       "      <td>0.0</td>\n",
       "    </tr>\n",
       "    <tr>\n",
       "      <td>3</td>\n",
       "      <td>5.0</td>\n",
       "      <td>0.0</td>\n",
       "      <td>0.0</td>\n",
       "      <td>0.0</td>\n",
       "      <td>0.0</td>\n",
       "      <td>0.0</td>\n",
       "      <td>0.0</td>\n",
       "      <td>0.0</td>\n",
       "      <td>0.0</td>\n",
       "      <td>0.0</td>\n",
       "      <td>...</td>\n",
       "      <td>0.0</td>\n",
       "      <td>0.0</td>\n",
       "      <td>0.0</td>\n",
       "      <td>0.0</td>\n",
       "      <td>0.0</td>\n",
       "      <td>0.0</td>\n",
       "      <td>0.0</td>\n",
       "      <td>0.0</td>\n",
       "      <td>0.0</td>\n",
       "      <td>0.0</td>\n",
       "    </tr>\n",
       "    <tr>\n",
       "      <td>4</td>\n",
       "      <td>2.0</td>\n",
       "      <td>0.0</td>\n",
       "      <td>0.0</td>\n",
       "      <td>0.0</td>\n",
       "      <td>0.0</td>\n",
       "      <td>0.0</td>\n",
       "      <td>0.0</td>\n",
       "      <td>0.0</td>\n",
       "      <td>0.0</td>\n",
       "      <td>0.0</td>\n",
       "      <td>...</td>\n",
       "      <td>0.0</td>\n",
       "      <td>0.0</td>\n",
       "      <td>0.0</td>\n",
       "      <td>0.0</td>\n",
       "      <td>0.0</td>\n",
       "      <td>0.0</td>\n",
       "      <td>0.0</td>\n",
       "      <td>0.0</td>\n",
       "      <td>0.0</td>\n",
       "      <td>0.0</td>\n",
       "    </tr>\n",
       "  </tbody>\n",
       "</table>\n",
       "<p>5 rows × 785 columns</p>\n",
       "</div>"
      ],
      "text/plain": [
       "   6.000000000000000000e+00  0.000000000000000000e+00  \\\n",
       "0                       0.0                       0.0   \n",
       "1                       1.0                       0.0   \n",
       "2                       1.0                       0.0   \n",
       "3                       5.0                       0.0   \n",
       "4                       2.0                       0.0   \n",
       "\n",
       "   0.000000000000000000e+00.1  0.000000000000000000e+00.2  \\\n",
       "0                         0.0                         0.0   \n",
       "1                         0.0                         0.0   \n",
       "2                         0.0                         0.0   \n",
       "3                         0.0                         0.0   \n",
       "4                         0.0                         0.0   \n",
       "\n",
       "   0.000000000000000000e+00.3  0.000000000000000000e+00.4  \\\n",
       "0                         0.0                         0.0   \n",
       "1                         0.0                         0.0   \n",
       "2                         0.0                         0.0   \n",
       "3                         0.0                         0.0   \n",
       "4                         0.0                         0.0   \n",
       "\n",
       "   0.000000000000000000e+00.5  0.000000000000000000e+00.6  \\\n",
       "0                         0.0                         0.0   \n",
       "1                         0.0                         0.0   \n",
       "2                         0.0                         0.0   \n",
       "3                         0.0                         0.0   \n",
       "4                         0.0                         0.0   \n",
       "\n",
       "   0.000000000000000000e+00.7  0.000000000000000000e+00.8  ...  \\\n",
       "0                         0.0                         0.0  ...   \n",
       "1                         0.0                         0.0  ...   \n",
       "2                         0.0                         0.0  ...   \n",
       "3                         0.0                         0.0  ...   \n",
       "4                         0.0                         0.0  ...   \n",
       "\n",
       "   0.000000000000000000e+00.615  0.000000000000000000e+00.616  \\\n",
       "0                           0.0                           0.0   \n",
       "1                           0.0                           0.0   \n",
       "2                           0.0                           0.0   \n",
       "3                           0.0                           0.0   \n",
       "4                           0.0                           0.0   \n",
       "\n",
       "   0.000000000000000000e+00.617  0.000000000000000000e+00.618  \\\n",
       "0                           0.0                           0.0   \n",
       "1                           0.0                           0.0   \n",
       "2                           0.0                           0.0   \n",
       "3                           0.0                           0.0   \n",
       "4                           0.0                           0.0   \n",
       "\n",
       "   0.000000000000000000e+00.619  0.000000000000000000e+00.620  \\\n",
       "0                           0.0                           0.0   \n",
       "1                           0.0                           0.0   \n",
       "2                           0.0                           0.0   \n",
       "3                           0.0                           0.0   \n",
       "4                           0.0                           0.0   \n",
       "\n",
       "   0.000000000000000000e+00.621  0.000000000000000000e+00.622  \\\n",
       "0                           0.0                           0.0   \n",
       "1                           0.0                           0.0   \n",
       "2                           0.0                           0.0   \n",
       "3                           0.0                           0.0   \n",
       "4                           0.0                           0.0   \n",
       "\n",
       "   0.000000000000000000e+00.623  0.000000000000000000e+00.624  \n",
       "0                           0.0                           0.0  \n",
       "1                           0.0                           0.0  \n",
       "2                           0.0                           0.0  \n",
       "3                           0.0                           0.0  \n",
       "4                           0.0                           0.0  \n",
       "\n",
       "[5 rows x 785 columns]"
      ]
     },
     "execution_count": 4,
     "metadata": {},
     "output_type": "execute_result"
    }
   ],
   "source": [
    "test.head()"
   ]
  },
  {
   "cell_type": "code",
   "execution_count": 5,
   "metadata": {},
   "outputs": [
    {
     "name": "stdout",
     "output_type": "stream",
     "text": [
      "(5999, 785)\n",
      "(999, 785)\n"
     ]
    }
   ],
   "source": [
    "print(train.shape)\n",
    "print(test.shape)"
   ]
  },
  {
   "cell_type": "code",
   "execution_count": 6,
   "metadata": {},
   "outputs": [
    {
     "data": {
      "image/png": "[encoded data removed]",
      "text/plain": [
       "<Figure size 1080x648 with 18 Axes>"
      ]
     },
     "metadata": {
      "needs_background": "light"
     },
     "output_type": "display_data"
    }
   ],
   "source": [
    "#Plotting visualisations\n",
    "fig, ax = plt.subplots(3, 6, figsize=(15,9))\n",
    "ax = ax.flatten()\n",
    "\n",
    "for i in range(18):\n",
    "    ax[i].imshow(train.iloc[i].values[1:].reshape(28,28))\n",
    "plt.show()"
   ]
  },
  {
   "cell_type": "code",
   "execution_count": 7,
   "metadata": {},
   "outputs": [],
   "source": [
    "#Splitting the data features and label\n",
    "y_train = train.iloc[:,0]\n",
    "X_train = train.iloc[:,1:]\n",
    "y_test = test.iloc[:,0]\n",
    "X_test = test.iloc[:,1:]"
   ]
  },
  {
   "cell_type": "code",
   "execution_count": 8,
   "metadata": {},
   "outputs": [
    {
     "name": "stdout",
     "output_type": "stream",
     "text": [
      "(5999, 784)\n",
      "(999, 784)\n",
      "(5999,)\n",
      "(999,)\n"
     ]
    }
   ],
   "source": [
    "print(X_train.shape)\n",
    "print(X_test.shape)\n",
    "print(y_train.shape)\n",
    "print(y_test.shape)"
   ]
  },
  {
   "cell_type": "code",
   "execution_count": 9,
   "metadata": {},
   "outputs": [],
   "source": [
    "#Function to perform PCA dimensionality reduction\n",
    "def PCA_reduce(X, dimensions):\n",
    "    #Standardisation\n",
    "    mu = np.mean(X, axis = 0)\n",
    "    X_sc = (X - mu)\n",
    "    \n",
    "    #Covariance matrix\n",
    "    covar_matrix = np.cov(X_sc, rowvar = 0)\n",
    "    \n",
    "    #Eigenvalues and eigenvectors\n",
    "    eig_values, eig_vectors = np.linalg.eig(covar_matrix)\n",
    "    eigen_val_sort = np.argsort(-eig_values)\n",
    "    \n",
    "    #Dimensionality reduction\n",
    "    X_pca = X_sc.dot(eig_vectors[:,eigen_val_sort[:dimensions]]).astype(np.float64)\n",
    "    return X_pca"
   ]
  },
  {
   "cell_type": "code",
   "execution_count": 10,
   "metadata": {},
   "outputs": [
    {
     "name": "stderr",
     "output_type": "stream",
     "text": [
      "C:\\Users\\Homura\\Anaconda3\\lib\\site-packages\\pandas\\core\\dtypes\\cast.py:729: ComplexWarning: Casting complex values to real discards the imaginary part\n",
      "  return arr.astype(dtype, copy=True)\n"
     ]
    }
   ],
   "source": [
    "#Apply to training and test set dimensionality 256\n",
    "X_train_pca = PCA_reduce(X_train, 256)\n",
    "X_test_pca = PCA_reduce(X_test, 256)"
   ]
  },
  {
   "cell_type": "code",
   "execution_count": 11,
   "metadata": {},
   "outputs": [
    {
     "name": "stdout",
     "output_type": "stream",
     "text": [
      "Accuracy score KNN No Reduction: 0.9279279279279279\n"
     ]
    }
   ],
   "source": [
    "#KNN with 1-nearest-neighbour (non reduced set)\n",
    "knn_model_0 = KNeighborsClassifier(n_neighbors=1)\n",
    "knn_model_0.fit(X_train, y_train)\n",
    "knn_predict_0 = knn_model_0.predict(X_test)\n",
    "\n",
    "knn_score_0 = accuracy_score(y_test, knn_predict_0)\n",
    "print('Accuracy score KNN No Reduction:', knn_score_0)"
   ]
  },
  {
   "cell_type": "code",
   "execution_count": 12,
   "metadata": {},
   "outputs": [
    {
     "name": "stdout",
     "output_type": "stream",
     "text": [
      "Accuracy score KNN PCA 256 dimensions: 0.22622622622622623\n"
     ]
    }
   ],
   "source": [
    "#KNN with 1-nearest-neighbour on reduced set (256 dim)\n",
    "knn_model_1 = KNeighborsClassifier(n_neighbors=1)\n",
    "knn_model_1.fit(X_train_pca, y_train)\n",
    "knn_predict_1 = knn_model_1.predict(X_test_pca)\n",
    "\n",
    "knn_score_1 = accuracy_score(y_test, knn_predict_1)\n",
    "print('Accuracy score KNN PCA 256 dimensions:', knn_score_1)"
   ]
  },
  {
   "cell_type": "code",
   "execution_count": 13,
   "metadata": {},
   "outputs": [
    {
     "name": "stderr",
     "output_type": "stream",
     "text": [
      "C:\\Users\\Homura\\Anaconda3\\lib\\site-packages\\pandas\\core\\dtypes\\cast.py:729: ComplexWarning: Casting complex values to real discards the imaginary part\n",
      "  return arr.astype(dtype, copy=True)\n"
     ]
    }
   ],
   "source": [
    "#Dimensionality 10\n",
    "X_train_pca_10 = PCA_reduce(X_train, 10)\n",
    "X_test_pca_10 = PCA_reduce(X_test, 10)"
   ]
  },
  {
   "cell_type": "code",
   "execution_count": 14,
   "metadata": {},
   "outputs": [
    {
     "name": "stdout",
     "output_type": "stream",
     "text": [
      "Accuracy score KNN PCA 10 dimensions: 0.24024024024024024\n"
     ]
    }
   ],
   "source": [
    "#KNN with 1-nearest-neighbour on reduced set (10 dim)\n",
    "knn_model_2 = KNeighborsClassifier(n_neighbors=1)\n",
    "knn_model_2.fit(X_train_pca_10, y_train)\n",
    "knn_predict_2 = knn_model_2.predict(X_test_pca_10)\n",
    "\n",
    "knn_score_2 = accuracy_score(y_test, knn_predict_2)\n",
    "print('Accuracy score KNN PCA 10 dimensions:', knn_score_2)"
   ]
  },
  {
   "cell_type": "code",
   "execution_count": 15,
   "metadata": {},
   "outputs": [],
   "source": [
    "#Ignore complex to real warning\n",
    "import warnings\n",
    "warnings.filterwarnings('ignore')"
   ]
  },
  {
   "cell_type": "code",
   "execution_count": 16,
   "metadata": {},
   "outputs": [
    {
     "name": "stdout",
     "output_type": "stream",
     "text": [
      "[0.24024024024024024, 0.22422422422422422, 0.2222222222222222, 0.22822822822822822, 0.22722722722722724, 0.22622622622622623]\n"
     ]
    }
   ],
   "source": [
    "#Accuracy for different reduced dimensions\n",
    "acc_list = list()\n",
    "acc_list.insert(0, knn_score_2)\n",
    "for i in range(10,256):\n",
    "    if (i%50 == 0):\n",
    "        X_train_pca = PCA_reduce(X_train, i)\n",
    "        X_test_pca = PCA_reduce(X_test, i)\n",
    "\n",
    "        knn_model = KNeighborsClassifier(n_neighbors=1)\n",
    "        knn_model.fit(X_train_pca, y_train)\n",
    "        knn_predict = knn_model.predict(X_test_pca)\n",
    "\n",
    "        knn_score = accuracy_score(y_test, knn_predict)\n",
    "        acc_list.append(knn_score)\n",
    "print(acc_list)"
   ]
  },
  {
   "cell_type": "code",
   "execution_count": 17,
   "metadata": {},
   "outputs": [
    {
     "data": {
      "image/png": "[encoded data removed]",
      "text/plain": [
       "<Figure size 432x288 with 1 Axes>"
      ]
     },
     "metadata": {
      "needs_background": "light"
     },
     "output_type": "display_data"
    }
   ],
   "source": [
    "#Plot accuracy vs number of dimension (from 10 to 250)\n",
    "dim_list = [10, 50, 100, 150, 200, 250]\n",
    "for i in acc_list:\n",
    "    plt.title(\"Accuracy curve\")\n",
    "    plt.xlabel('Number of Dimensions')\n",
    "    plt.ylabel('Accuracy')\n",
    "    plt.plot(dim_list, acc_list, marker='o')\n",
    "plt.show()"
   ]
  },
  {
   "cell_type": "code",
   "execution_count": 18,
   "metadata": {},
   "outputs": [],
   "source": [
    "#Euclidean distances\n",
    "def euclid_distance(X1, X2):\n",
    "    return sqrt((sum((X1 - X2)**2)))"
   ]
  },
  {
   "cell_type": "code",
   "execution_count": 19,
   "metadata": {},
   "outputs": [],
   "source": [
    "#Kmeans by number of clusters\n",
    "from sklearn.cluster import KMeans\n",
    "sum_square_err = []\n",
    "for i in range(1,21):\n",
    "    kmeans = KMeans(n_clusters=i, init='random')\n",
    "    kmeans.fit(X_train)\n",
    "    sum_square_err.append(kmeans.inertia_)"
   ]
  },
  {
   "cell_type": "code",
   "execution_count": 20,
   "metadata": {},
   "outputs": [
    {
     "data": {
      "image/png": "[encoded data removed]",
      "text/plain": [
       "<Figure size 432x288 with 1 Axes>"
      ]
     },
     "metadata": {
      "needs_background": "light"
     },
     "output_type": "display_data"
    }
   ],
   "source": [
    "#Plot error curve vs number of clusters\n",
    "plt.plot(range(1, 21), sum_square_err)\n",
    "plt.xticks(range(1, 21))\n",
    "plt.title(\"Loss curve for cluster numbers\")\n",
    "plt.xlabel(\"Clusters\")\n",
    "plt.ylabel(\"Sum Square Error\")\n",
    "plt.show()"
   ]
  },
  {
   "cell_type": "code",
   "execution_count": 21,
   "metadata": {},
   "outputs": [],
   "source": [
    "#Sum square error by number of iterations\n",
    "sum_square_err = []\n",
    "for i in range(1,31):\n",
    "    kmeans = KMeans(n_clusters=10, init='random', max_iter=i)\n",
    "    kmeans.fit(X_train)\n",
    "    sum_square_err.append(kmeans.inertia_)"
   ]
  },
  {
   "cell_type": "code",
   "execution_count": 22,
   "metadata": {},
   "outputs": [
    {
     "data": {
      "image/png": "[encoded data removed]",
      "text/plain": [
       "<Figure size 432x288 with 1 Axes>"
      ]
     },
     "metadata": {
      "needs_background": "light"
     },
     "output_type": "display_data"
    }
   ],
   "source": [
    "#Plot error curve vs number of iterations\n",
    "plt.plot(range(1, 31), sum_square_err)\n",
    "plt.title(\"Loss curve for iterations\")\n",
    "plt.xlabel(\"Iterations\")\n",
    "plt.ylabel(\"Sum Square Error\")\n",
    "plt.show()"
   ]
  },
  {
   "cell_type": "code",
   "execution_count": 23,
   "metadata": {},
   "outputs": [
    {
     "name": "stdout",
     "output_type": "stream",
     "text": [
      "0     0.0\n",
      "1     4.0\n",
      "2     1.0\n",
      "3     9.0\n",
      "4     2.0\n",
      "5     1.0\n",
      "6     3.0\n",
      "7     1.0\n",
      "8     4.0\n",
      "9     3.0\n",
      "10    5.0\n",
      "11    3.0\n",
      "12    6.0\n",
      "13    1.0\n",
      "14    7.0\n",
      "15    2.0\n",
      "16    8.0\n",
      "Name: 5.000000000000000000e+00, dtype: float64\n"
     ]
    }
   ],
   "source": [
    "print(y_train.iloc[0:17])"
   ]
  },
  {
   "cell_type": "code",
   "execution_count": 24,
   "metadata": {},
   "outputs": [
    {
     "data": {
      "text/plain": [
       "KMeans(algorithm='auto', copy_x=True,\n",
       "       init=array([[0., 0., 0., ..., 0., 0., 0.],\n",
       "       [0., 0., 0., ..., 0., 0., 0.],\n",
       "       [0., 0., 0., ..., 0., 0., 0.],\n",
       "       ...,\n",
       "       [0., 0., 0., ..., 0., 0., 0.],\n",
       "       [0., 0., 0., ..., 0., 0., 0.],\n",
       "       [0., 0., 0., ..., 0., 0., 0.]]),\n",
       "       max_iter=300, n_clusters=10, n_init=10, n_jobs=None,\n",
       "       precompute_distances='auto', random_state=None, tol=0.0001, verbose=0)"
      ]
     },
     "execution_count": 24,
     "metadata": {},
     "output_type": "execute_result"
    }
   ],
   "source": [
    "#Group initial clustering centres by class\n",
    "ndarray = np.array([X_train.iloc[0,:],  #0\n",
    "           X_train.iloc[2,:],           #1\n",
    "           X_train.iloc[4,:],           #2\n",
    "           X_train.iloc[6,:],           #3\n",
    "           X_train.iloc[1,:],           #4\n",
    "           X_train.iloc[10,:],          #5\n",
    "           X_train.iloc[12,:],          #6\n",
    "           X_train.iloc[14,:],          #7\n",
    "           X_train.iloc[16,:],          #8\n",
    "           X_train.iloc[3,:],           #9\n",
    "          ])\n",
    "\n",
    "kmeans = KMeans(n_clusters=10, init=ndarray)\n",
    "kmeans.fit(X_train)"
   ]
  },
  {
   "cell_type": "code",
   "execution_count": 25,
   "metadata": {},
   "outputs": [
    {
     "name": "stdout",
     "output_type": "stream",
     "text": [
      "Percentage of samples for 0 is 8.03 %\n",
      "Percentage of samples for 1 is 7.52 %\n",
      "Percentage of samples for 2 is 6.95 %\n",
      "Percentage of samples for 3 is 12.10 %\n",
      "Percentage of samples for 4 is 9.65 %\n",
      "Percentage of samples for 5 is 13.70 %\n",
      "Percentage of samples for 6 is 8.60 %\n",
      "Percentage of samples for 7 is 10.37 %\n",
      "Percentage of samples for 8 is 10.92 %\n",
      "Percentage of samples for 9 is 12.15 %\n",
      "Accuracy score:  0.5192532088681447\n"
     ]
    }
   ],
   "source": [
    "#Calculate percentage of samples sharing same digit as initial group centre\n",
    "for i in range(10):\n",
    "    percentage = np.sum(kmeans.labels_ == i)/kmeans.labels_.shape[0]*100\n",
    "    print(\"Percentage of samples for\", i,\"is\", \"{:.2f}\".format(percentage), \"%\")\n",
    "    \n",
    "#Accuracy score\n",
    "print(\"Accuracy score: \", accuracy_score(kmeans.labels_, y_train))"
   ]
  },
  {
   "cell_type": "code",
   "execution_count": 26,
   "metadata": {},
   "outputs": [],
   "source": [
    "#Function to perform those actions on PCA reduced sets\n",
    "acc_scores = []\n",
    "def ndarray_percent(X, dimensions):\n",
    "    #PCA reduction\n",
    "    X = PCA_reduce(X, dimensions)\n",
    "    \n",
    "    #Group initial clustering centres by class\n",
    "    ndarray = np.array([X.iloc[0,:],  #0\n",
    "               X.iloc[2,:],           #1\n",
    "               X.iloc[4,:],           #2\n",
    "               X.iloc[6,:],           #3\n",
    "               X.iloc[1,:],           #4\n",
    "               X.iloc[10,:],          #5\n",
    "               X.iloc[12,:],          #6\n",
    "               X.iloc[14,:],          #7\n",
    "               X.iloc[16,:],          #8\n",
    "               X.iloc[3,:],           #9\n",
    "              ])\n",
    "\n",
    "    kmeans = KMeans(n_clusters=10, init=ndarray)\n",
    "    kmeans.fit(X)\n",
    "    \n",
    "    #Calculate percentage of samples sharing same digit as initial group centre\n",
    "    percentage = []\n",
    "    for i in range(10):\n",
    "        percentage.append(np.sum(kmeans.labels_ == i)/kmeans.labels_.shape[0]*100)\n",
    "        print(\"Percentage of samples for\", i,\"is\", \"{:.2f}\".format(percentage[i]), \"%\")\n",
    "        \n",
    "    #Average percentages\n",
    "    avg_perc = sum(percentage)/10\n",
    "    print(\"Average percentage:\", avg_perc)\n",
    "    \n",
    "    #Accuracy score\n",
    "    print(\"Accuracy score: \", accuracy_score(kmeans.labels_, y_train))\n",
    "    acc_scores.append(accuracy_score(kmeans.labels_, y_train))"
   ]
  },
  {
   "cell_type": "code",
   "execution_count": 27,
   "metadata": {},
   "outputs": [
    {
     "name": "stdout",
     "output_type": "stream",
     "text": [
      "10 dimensions:\n",
      "Percentage of samples for 0 is 8.02 %\n",
      "Percentage of samples for 1 is 9.53 %\n",
      "Percentage of samples for 2 is 7.05 %\n",
      "Percentage of samples for 3 is 11.55 %\n",
      "Percentage of samples for 4 is 10.97 %\n",
      "Percentage of samples for 5 is 13.44 %\n",
      "Percentage of samples for 6 is 8.37 %\n",
      "Percentage of samples for 7 is 11.15 %\n",
      "Percentage of samples for 8 is 10.29 %\n",
      "Percentage of samples for 9 is 9.63 %\n",
      "Average percentage: 10.0\n",
      "Accuracy score:  0.5065844307384564\n",
      "\n",
      "100 dimensions:\n",
      "Percentage of samples for 0 is 8.03 %\n",
      "Percentage of samples for 1 is 7.45 %\n",
      "Percentage of samples for 2 is 7.00 %\n",
      "Percentage of samples for 3 is 12.14 %\n",
      "Percentage of samples for 4 is 9.68 %\n",
      "Percentage of samples for 5 is 13.69 %\n",
      "Percentage of samples for 6 is 8.55 %\n",
      "Percentage of samples for 7 is 10.35 %\n",
      "Percentage of samples for 8 is 10.94 %\n",
      "Percentage of samples for 9 is 12.17 %\n",
      "Average percentage: 10.0\n",
      "Accuracy score:  0.5190865144190698\n",
      "\n",
      "250 dimensions:\n",
      "Percentage of samples for 0 is 7.97 %\n",
      "Percentage of samples for 1 is 7.52 %\n",
      "Percentage of samples for 2 is 7.00 %\n",
      "Percentage of samples for 3 is 12.07 %\n",
      "Percentage of samples for 4 is 9.67 %\n",
      "Percentage of samples for 5 is 13.69 %\n",
      "Percentage of samples for 6 is 8.55 %\n",
      "Percentage of samples for 7 is 10.37 %\n",
      "Percentage of samples for 8 is 11.02 %\n",
      "Percentage of samples for 9 is 12.15 %\n",
      "Average percentage: 10.0\n",
      "Accuracy score:  0.5192532088681447\n"
     ]
    }
   ],
   "source": [
    "#Performance on reduced dimensions\n",
    "print(\"10 dimensions:\")\n",
    "ndarray_percent(X_train, 10)\n",
    "print()\n",
    "print(\"100 dimensions:\")\n",
    "ndarray_percent(X_train, 100)\n",
    "print()\n",
    "print(\"250 dimensions:\")\n",
    "ndarray_percent(X_train, 250)"
   ]
  },
  {
   "cell_type": "code",
   "execution_count": 29,
   "metadata": {},
   "outputs": [
    {
     "data": {
      "image/png": "[encoded data removed]",
      "text/plain": [
       "<Figure size 432x288 with 1 Axes>"
      ]
     },
     "metadata": {
      "needs_background": "light"
     },
     "output_type": "display_data"
    }
   ],
   "source": [
    "#Plot error curve vs number of iterations\n",
    "dims = [10,100,250]\n",
    "plt.plot(dims, acc_scores, marker='o')\n",
    "plt.title(\"Accuracy scores vs Dimensions\")\n",
    "plt.xlabel(\"Dimensions\")\n",
    "plt.ylabel(\"Accuracy\")\n",
    "plt.show()"
   ]
  },
  {
   "cell_type": "code",
   "execution_count": null,
   "metadata": {},
   "outputs": [],
   "source": []
  }
 ],
 "metadata": {
  "kernelspec": {
   "display_name": "Python 3",
   "language": "python",
   "name": "python3"
  },
  "language_info": {
   "codemirror_mode": {
    "name": "ipython",
    "version": 3
   },
   "file_extension": ".py",
   "mimetype": "text/x-python",
   "name": "python",
   "nbconvert_exporter": "python",
   "pygments_lexer": "ipython3",
   "version": "3.7.4"
  }
 },
 "nbformat": 4,
 "nbformat_minor": 2
}
